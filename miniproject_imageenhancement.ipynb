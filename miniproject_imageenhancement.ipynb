{
  "nbformat": 4,
  "nbformat_minor": 0,
  "metadata": {
    "colab": {
      "name": "miniproject_imageenhancement",
      "provenance": [],
      "collapsed_sections": [],
      "authorship_tag": "ABX9TyPpNaZtSjoqIe/ZkSge9aOx",
      "include_colab_link": true
    },
    "kernelspec": {
      "name": "python3",
      "display_name": "Python 3"
    }
  },
  "cells": [
    {
      "cell_type": "markdown",
      "metadata": {
        "id": "view-in-github",
        "colab_type": "text"
      },
      "source": [
        "<a href=\"https://colab.research.google.com/github/ganeshkumar269/bda-project/blob/master/miniproject_imageenhancement.ipynb\" target=\"_parent\"><img src=\"https://colab.research.google.com/assets/colab-badge.svg\" alt=\"Open In Colab\"/></a>"
      ]
    },
    {
      "cell_type": "code",
      "metadata": {
        "id": "R2ov6uWaTGbw",
        "colab": {
          "base_uri": "https://localhost:8080/"
        },
        "outputId": "c33d777d-1a02-4470-aa63-9bee72411234"
      },
      "source": [
        "from google.colab import drive\n",
        "drive.mount('/content/gdrive')"
      ],
      "execution_count": null,
      "outputs": [
        {
          "output_type": "stream",
          "text": [
            "Mounted at /content/gdrive\n"
          ],
          "name": "stdout"
        }
      ]
    },
    {
      "cell_type": "code",
      "metadata": {
        "id": "dEl-kW0NFVbg"
      },
      "source": [
        ""
      ],
      "execution_count": null,
      "outputs": []
    },
    {
      "cell_type": "code",
      "metadata": {
        "id": "5fk41dVJ_ODB"
      },
      "source": [
        ""
      ],
      "execution_count": null,
      "outputs": []
    },
    {
      "cell_type": "code",
      "metadata": {
        "id": "71YoR-jRV_rX"
      },
      "source": [
        "from PIL import Image,ImageEnhance,ImageStat\n",
        "import csv\n",
        "import cv2\n",
        "import numpy as np"
      ],
      "execution_count": null,
      "outputs": []
    },
    {
      "cell_type": "code",
      "metadata": {
        "id": "mdpPTkw_MuJP"
      },
      "source": [
        ""
      ],
      "execution_count": null,
      "outputs": []
    },
    {
      "cell_type": "code",
      "metadata": {
        "id": "OMwGq70KL1bR"
      },
      "source": [
        "path_base = '/content/gdrive/My Drive/ISIC-2017-Org-Train-Data/'"
      ],
      "execution_count": null,
      "outputs": []
    },
    {
      "cell_type": "code",
      "metadata": {
        "id": "MNw0xs24FVGS"
      },
      "source": [
        "obj = ImageEnhance.Brightness(image)"
      ],
      "execution_count": null,
      "outputs": []
    },
    {
      "cell_type": "code",
      "metadata": {
        "id": "wow6MgsPFm6o"
      },
      "source": [
        "brightImage = obj.enhance(1.5)"
      ],
      "execution_count": null,
      "outputs": []
    },
    {
      "cell_type": "code",
      "metadata": {
        "id": "UhEWuzWBFo9i"
      },
      "source": [
        "sharpness = ImageEnhance.Sharpness(brightImage)"
      ],
      "execution_count": null,
      "outputs": []
    },
    {
      "cell_type": "code",
      "metadata": {
        "id": "-x1YSjEaF0cb"
      },
      "source": [
        "sharpImage = sharpness.enhance(1.5)"
      ],
      "execution_count": null,
      "outputs": []
    },
    {
      "cell_type": "code",
      "metadata": {
        "id": "Oiw_NSkQF2Si"
      },
      "source": [
        "contrast = ImageEnhance.Contrast(sharpImage)"
      ],
      "execution_count": null,
      "outputs": []
    },
    {
      "cell_type": "code",
      "metadata": {
        "id": "SsRba7YTGEjP"
      },
      "source": [
        "# def getBrightness(image):\n",
        "# res=ImageStat.Stat(image)\n",
        "# res.mean"
      ],
      "execution_count": null,
      "outputs": []
    },
    {
      "cell_type": "code",
      "metadata": {
        "id": "8zO-EMH-JVMS"
      },
      "source": [
        "contrastImage = contrast.enhance(1.2)"
      ],
      "execution_count": null,
      "outputs": []
    },
    {
      "cell_type": "code",
      "metadata": {
        "id": "EXPEZ6fDNngq"
      },
      "source": [
        "contrastImage"
      ],
      "execution_count": null,
      "outputs": []
    },
    {
      "cell_type": "code",
      "metadata": {
        "id": "1myXCy2mNwhk"
      },
      "source": [
        "!wget https://drive.google.com/u/0/uc?export=download&confirm=7aEp&id=1hXy-gKCHIG8myY9R4lB6GYE7xxbqM_Hj -p /content/gdrive/My\\ Drive/"
      ],
      "execution_count": null,
      "outputs": []
    },
    {
      "cell_type": "code",
      "metadata": {
        "id": "V5I-P56oQ3X1"
      },
      "source": [
        "contrastImage.save('/content/gdrive/My Drive/ISIC-2017-Org-Train-Data/test.jpg')"
      ],
      "execution_count": null,
      "outputs": []
    },
    {
      "cell_type": "code",
      "metadata": {
        "id": "_Qoz5rjFoVGL"
      },
      "source": [
        ""
      ],
      "execution_count": null,
      "outputs": []
    },
    {
      "cell_type": "code",
      "metadata": {
        "id": "9ENfO4hwId_Z"
      },
      "source": [
        "def enhance(image,name):\n",
        "  obj = ImageEnhance.Brightness(image)\n",
        "  brightImage = obj.enhance(1.5)\n",
        "  sharpness = ImageEnhance.Sharpness(brightImage)\n",
        "  sharpImage = sharpness.enhance(1.6)\n",
        "  contrast = ImageEnhance.Contrast(sharpImage)\n",
        "  contrastImage = contrast.enhance(1.2)\n",
        "  # resizedImage = contrastImage.resize((256,256),resample=Image.BICUBIC)\n",
        "  contrastImage.save('/content/gdrive/My Drive/ISIC-2017-Org-Train-Data/After-Enhancement/'+name+'.jpg','JPEG')"
      ],
      "execution_count": null,
      "outputs": []
    },
    {
      "cell_type": "code",
      "metadata": {
        "id": "_tsynhrakSNk"
      },
      "source": [
        "with open(path_base + 'ISIC-2017_Training_Part3_GroundTruth.csv') as csvDataFile:\n",
        "    csvReader = csv.reader(csvDataFile, delimiter=';')\n",
        "    i = 0\n",
        "    itr = 135\n",
        "    for row in csvReader:\n",
        "      if i == 0:\n",
        "        i += 1\n",
        "        continue\n",
        "      if itr < 0:\n",
        "        break\n",
        "      else:\n",
        "        itr -= 1\n",
        "      arr = row[0].split(',')\n",
        "      img_name = arr[0]\n",
        "      nextImage = Image.open(path_base+'ISIC-2017_Training_Data/'+img_name+'.jpg')\n",
        "      enhance(nextImage,img_name)"
      ],
      "execution_count": null,
      "outputs": []
    },
    {
      "cell_type": "code",
      "metadata": {
        "id": "f0n81HW-kfEq",
        "colab": {
          "base_uri": "https://localhost:8080/",
          "height": 34
        },
        "outputId": "c9f61838-0a4a-4167-d500-a415eece8303"
      },
      "source": [
        "!ls /content/gdrive/My\\ Drive/ISIC-2017-Org-Train-Data/After-Enhancement-2/ | wc -l"
      ],
      "execution_count": null,
      "outputs": [
        {
          "output_type": "stream",
          "text": [
            "2000\n"
          ],
          "name": "stdout"
        }
      ]
    },
    {
      "cell_type": "code",
      "metadata": {
        "id": "MBLAmaZ7lBGV"
      },
      "source": [
        "def shade_of_gray_cc(img, power=6, gamma=2.2):\n",
        "\n",
        "  img_dtype = img.dtype\n",
        "\n",
        "\n",
        "  if gamma is not None:\n",
        "      img = img.astype('uint8')\n",
        "      look_up_table = np.ones((256,1), dtype='uint8') * 0\n",
        "      for i in range(256):\n",
        "          look_up_table[i][0] = 255 * pow(i/255, 1/gamma)\n",
        "      img = cv2.LUT(img, look_up_table)\n",
        "\n",
        "  img = img.astype('float32')\n",
        "  img_power = np.power(img, power)\n",
        "  rgb_vec = np.power(np.mean(img_power, (0,1)), 1/power)\n",
        "  rgb_norm = np.sqrt(np.sum(np.power(rgb_vec, 2.0)))\n",
        "  rgb_vec = rgb_vec/rgb_norm\n",
        "  rgb_vec = 1/(rgb_vec*np.sqrt(3))\n",
        "  img = np.multiply(img, rgb_vec)\n",
        "\n",
        "  img = np.clip(img, a_min=0, a_max=255)\n",
        "  \n",
        "  return img.astype(img_dtype)\n"
      ],
      "execution_count": null,
      "outputs": []
    },
    {
      "cell_type": "code",
      "metadata": {
        "id": "Iac13ZdjzLLN"
      },
      "source": [
        "def enhance2(image,name):\n",
        "  res = shade_of_gray_cc(image)\n",
        "  # resizedImage = cv2.resize(image, (224, 224),  interpolation = cv2.INTER_CUBIC) \n",
        "  cv2.imwrite(path_base+\"After-Enhancement-Train-Full-Size/\"+name+'.jpg',res)\n",
        "  # contrastImage.save('/content/gdrive/My Drive/ISIC-2017-Org-Train-Data/After-Enhancement/'+name+'.jpg','JPEG')"
      ],
      "execution_count": null,
      "outputs": []
    },
    {
      "cell_type": "code",
      "metadata": {
        "id": "KfP4ghQ21XGh",
        "colab": {
          "base_uri": "https://localhost:8080/"
        },
        "outputId": "7415b056-c88c-436d-b7f5-d0a5bcfe870c"
      },
      "source": [
        "from tqdm import tqdm\n",
        "import csv\n",
        "import cv2\n",
        "import numpy as np\n",
        "with open('/content/gdrive/MyDrive/ISIC-2017-Org-Train-Data/ISIC-2017_Training_Part3_GroundTruth.csv') as csvDataFile:\n",
        "    csvReader = csv.reader(csvDataFile, delimiter=';')\n",
        "    i = 0\n",
        "    for row in csvReader:\n",
        "      if i == 0:\n",
        "        i += 1\n",
        "        continue\n",
        "      arr = row[0].split(',')\n",
        "      img_name = arr[0]\n",
        "      nextImage = cv2.imread('/content/gdrive/MyDrive/ISIC-2017-Org-Train-Data/ISIC-2017_Training_Data/'+img_name+'.jpg')\n",
        "      enhance2(nextImage,img_name)\n",
        "      i = i+1\n",
        "      if i%100 == 0:\n",
        "        print(\"Completed:\",i)\n",
        "\n"
      ],
      "execution_count": null,
      "outputs": [
        {
          "output_type": "stream",
          "text": [
            "Completed: 100\n",
            "Completed: 200\n",
            "Completed: 300\n",
            "Completed: 400\n",
            "Completed: 500\n",
            "Completed: 600\n",
            "Completed: 700\n",
            "Completed: 800\n",
            "Completed: 900\n",
            "Completed: 1000\n",
            "Completed: 1100\n",
            "Completed: 1200\n",
            "Completed: 1300\n",
            "Completed: 1400\n",
            "Completed: 1500\n",
            "Completed: 1600\n",
            "Completed: 1700\n",
            "Completed: 1800\n",
            "Completed: 1900\n",
            "Completed: 2000\n"
          ],
          "name": "stdout"
        }
      ]
    },
    {
      "cell_type": "code",
      "metadata": {
        "cellView": "both",
        "id": "edGukUHXyymr",
        "colab": {
          "base_uri": "https://localhost:8080/",
          "height": 34
        },
        "outputId": "461b5ed5-289f-498e-8130-619fda59e244"
      },
      "source": [
        "#dilation\n",
        "dil_img1 = cv2.imread('/content/gdrive/My Drive/ISIC-2017-Org-Train-Data/ISIC-2017_Training_Data/ISIC_0000019.jpg')\n",
        "kernel = np.ones((3,3),np.uint8)\n",
        "channel1_dilate_o = cv2.erode(dil_img1[:,:,0],kernel,iterations=1)\n",
        "channel1_erode_o = cv2.erode(channel1_dilate_o,kernel,iterations=1)\n",
        "cv2.imwrite('/content/gdrive/My Drive/ISIC-2017-Org-Train-Data/rand/ISIC_0000019_c1.jpg',channel1_erode_o)"
      ],
      "execution_count": null,
      "outputs": [
        {
          "output_type": "execute_result",
          "data": {
            "text/plain": [
              "True"
            ]
          },
          "metadata": {
            "tags": []
          },
          "execution_count": 21
        }
      ]
    },
    {
      "cell_type": "code",
      "metadata": {
        "id": "b1g91bErTXTp",
        "colab": {
          "base_uri": "https://localhost:8080/",
          "height": 85
        },
        "outputId": "5c6f82e0-0cbf-4014-9b5a-1b7b2c172fa2"
      },
      "source": [
        "print(cv2.imread('/content/gdrive/My Drive/ISIC-2017-Org-Train-Data/ISIC-2017_Training_Data/ISIC_0000000.jpg').shape)\n",
        "print(cv2.imread('/content/gdrive/My Drive/ISIC-2017-Org-Train-Data/ISIC-2017_Training_Data/ISIC_0000001.jpg').shape)\n",
        "print(cv2.imread('/content/gdrive/My Drive/ISIC-2017-Org-Train-Data/ISIC-2017_Training_Data/ISIC_0000019.jpg').shape)\n",
        "print(cv2.imread('/content/gdrive/My Drive/ISIC-2017-Org-Train-Data/ISIC-2017_Training_Data/ISIC_0000148.jpg').shape)"
      ],
      "execution_count": null,
      "outputs": [
        {
          "output_type": "stream",
          "text": [
            "(767, 1022, 3)\n",
            "(767, 1022, 3)\n",
            "(1129, 1504, 3)\n",
            "(2112, 2816, 3)\n"
          ],
          "name": "stdout"
        }
      ]
    },
    {
      "cell_type": "code",
      "metadata": {
        "id": "sa-2kz6L3O7S",
        "colab": {
          "base_uri": "https://localhost:8080/"
        },
        "outputId": "06881326-620f-4cf9-e541-00e21eb8b946"
      },
      "source": [
        "ls /content/gdrive/My\\ Drive/ISIC-2017-Org-Train-Data/After-Enhancement-Train-Full-Size | wc -l"
      ],
      "execution_count": null,
      "outputs": [
        {
          "output_type": "stream",
          "text": [
            "97448\n"
          ],
          "name": "stdout"
        }
      ]
    },
    {
      "cell_type": "code",
      "metadata": {
        "id": "JneohzfbGJmf"
      },
      "source": [
        "!mkdir /content/gdrive/My\\ Drive/ISIC-2017-Org-Train-Data/After-Enhancement-3"
      ],
      "execution_count": null,
      "outputs": []
    },
    {
      "cell_type": "code",
      "metadata": {
        "id": "-QE5fQgLGlmd"
      },
      "source": [
        "!rm -r /content/gdrive/My\\ Drive/ISIC-2017-Org-Train-Data/After-Enhancement-3/"
      ],
      "execution_count": null,
      "outputs": []
    },
    {
      "cell_type": "code",
      "metadata": {
        "id": "l71_P0wZPmNi",
        "colab": {
          "base_uri": "https://localhost:8080/"
        },
        "outputId": "01b4ecc0-8bb3-4098-e9a5-9242cbb8f880"
      },
      "source": [
        "from PIL import Image\n",
        "im = Image.open('/content/gdrive/My Drive/ISIC-2017-Org-Train-Data/ISIC-2017_Training_Data/ISIC_0000531.jpg')\n",
        "im.size"
      ],
      "execution_count": null,
      "outputs": [
        {
          "output_type": "execute_result",
          "data": {
            "text/plain": [
              "(919, 802)"
            ]
          },
          "metadata": {
            "tags": []
          },
          "execution_count": 12
        }
      ]
    },
    {
      "cell_type": "code",
      "metadata": {
        "id": "lYAE3greVdwn",
        "colab": {
          "base_uri": "https://localhost:8080/"
        },
        "outputId": "56fd9957-d66e-4af4-cb7f-2cecccdf6f5c"
      },
      "source": [
        "!du -sh /content/gdrive/My\\ Drive/ISIC-2017-Org-Train-Data/ISIC-2017_Training_Data/"
      ],
      "execution_count": null,
      "outputs": [
        {
          "output_type": "stream",
          "text": [
            "5.9G\t/content/gdrive/My Drive/ISIC-2017-Org-Train-Data/ISIC-2017_Training_Data/\n"
          ],
          "name": "stdout"
        }
      ]
    },
    {
      "cell_type": "code",
      "metadata": {
        "id": "7CjtOSKhZXn1",
        "colab": {
          "base_uri": "https://localhost:8080/"
        },
        "outputId": "0e1c5f97-7e82-4054-8f33-bc32ba6ae028"
      },
      "source": [
        "from PIL import Image\n",
        "im = Image.open('/content/gdrive/MyDrive/ISIC-2017-Org-Train-Data/After-Enhancement-Test/ISIC_0012086.jpg')\n",
        "im.size"
      ],
      "execution_count": null,
      "outputs": [
        {
          "output_type": "execute_result",
          "data": {
            "text/plain": [
              "(224, 224)"
            ]
          },
          "metadata": {
            "tags": []
          },
          "execution_count": 4
        }
      ]
    },
    {
      "cell_type": "code",
      "metadata": {
        "id": "DRiZQfWl-7OS"
      },
      "source": [
        "import csv\n",
        "csvFile = open('/content/gdrive/MyDrive/ISIC-2017-Org-Train-Data/ISIC-2017_Training_Part3_GroundTruth.csv')\n",
        "csvReader = csv.reader(csvFile)"
      ],
      "execution_count": null,
      "outputs": []
    },
    {
      "cell_type": "code",
      "metadata": {
        "colab": {
          "base_uri": "https://localhost:8080/",
          "height": 163
        },
        "id": "O2AXL1dvj5KK",
        "outputId": "619608ba-03ec-4842-c9f8-09de1b4eccf2"
      },
      "source": [
        ""
      ],
      "execution_count": null,
      "outputs": [
        {
          "output_type": "error",
          "ename": "TypeError",
          "evalue": "ignored",
          "traceback": [
            "\u001b[0;31m---------------------------------------------------------------------------\u001b[0m",
            "\u001b[0;31mTypeError\u001b[0m                                 Traceback (most recent call last)",
            "\u001b[0;32m<ipython-input-27-d97a9a57bb8a>\u001b[0m in \u001b[0;36m<module>\u001b[0;34m()\u001b[0m\n\u001b[0;32m----> 1\u001b[0;31m \u001b[0mcsvReader\u001b[0m\u001b[0;34m[\u001b[0m\u001b[0;36m0\u001b[0m\u001b[0;34m]\u001b[0m\u001b[0;34m\u001b[0m\u001b[0;34m\u001b[0m\u001b[0m\n\u001b[0m",
            "\u001b[0;31mTypeError\u001b[0m: '_csv.reader' object is not subscriptable"
          ]
        }
      ]
    },
    {
      "cell_type": "code",
      "metadata": {
        "id": "6VnwNVfhkDJR"
      },
      "source": [
        ""
      ],
      "execution_count": null,
      "outputs": []
    }
  ]
}